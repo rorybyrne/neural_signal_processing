{
 "cells": [
  {
   "cell_type": "code",
   "execution_count": 1,
   "metadata": {},
   "outputs": [],
   "source": [
    "import pandas as pd\n",
    "import matplotlib.pyplot as plt"
   ]
  },
  {
   "cell_type": "code",
   "execution_count": 2,
   "metadata": {},
   "outputs": [],
   "source": [
    "dataset = pd.read_csv('../../datasets/mnist.tsv', header=0, index_col=0, sep='\\t')"
   ]
  },
  {
   "cell_type": "code",
   "execution_count": 3,
   "metadata": {},
   "outputs": [
    {
     "data": {
      "text/html": [
       "<div>\n",
       "<style scoped>\n",
       "    .dataframe tbody tr th:only-of-type {\n",
       "        vertical-align: middle;\n",
       "    }\n",
       "\n",
       "    .dataframe tbody tr th {\n",
       "        vertical-align: top;\n",
       "    }\n",
       "\n",
       "    .dataframe thead th {\n",
       "        text-align: right;\n",
       "    }\n",
       "</style>\n",
       "<table border=\"1\" class=\"dataframe\">\n",
       "  <thead>\n",
       "    <tr style=\"text-align: right;\">\n",
       "      <th></th>\n",
       "      <th>event</th>\n",
       "      <th>device</th>\n",
       "      <th>channel</th>\n",
       "      <th>code</th>\n",
       "      <th>size</th>\n",
       "      <th>data</th>\n",
       "    </tr>\n",
       "    <tr>\n",
       "      <th>id</th>\n",
       "      <th></th>\n",
       "      <th></th>\n",
       "      <th></th>\n",
       "      <th></th>\n",
       "      <th></th>\n",
       "      <th></th>\n",
       "    </tr>\n",
       "  </thead>\n",
       "  <tbody>\n",
       "    <tr>\n",
       "      <th>0</th>\n",
       "      <td>0</td>\n",
       "      <td>MW</td>\n",
       "      <td>FP1</td>\n",
       "      <td>0</td>\n",
       "      <td>1017</td>\n",
       "      <td>38,48,51,44,48,56,56,41,20,-3,-9,-1,6,5,6,17,2...</td>\n",
       "    </tr>\n",
       "    <tr>\n",
       "      <th>1</th>\n",
       "      <td>1</td>\n",
       "      <td>MW</td>\n",
       "      <td>FP1</td>\n",
       "      <td>1</td>\n",
       "      <td>889</td>\n",
       "      <td>83,74,65,65,66,55,43,25,18,20,26,33,41,38,28,3...</td>\n",
       "    </tr>\n",
       "    <tr>\n",
       "      <th>2</th>\n",
       "      <td>2</td>\n",
       "      <td>MW</td>\n",
       "      <td>FP1</td>\n",
       "      <td>4</td>\n",
       "      <td>1017</td>\n",
       "      <td>19,10,-2,-9,-5,3,8,7,8,2,-10,-21,-22,-27,-30,-...</td>\n",
       "    </tr>\n",
       "    <tr>\n",
       "      <th>3</th>\n",
       "      <td>3</td>\n",
       "      <td>MW</td>\n",
       "      <td>FP1</td>\n",
       "      <td>1</td>\n",
       "      <td>1017</td>\n",
       "      <td>17,29,36,26,21,17,17,13,17,21,25,26,20,5,-5,-1...</td>\n",
       "    </tr>\n",
       "    <tr>\n",
       "      <th>4</th>\n",
       "      <td>4</td>\n",
       "      <td>MW</td>\n",
       "      <td>FP1</td>\n",
       "      <td>8</td>\n",
       "      <td>952</td>\n",
       "      <td>77,74,69,70,76,75,76,75,67,66,76,93,98,82,55,3...</td>\n",
       "    </tr>\n",
       "  </tbody>\n",
       "</table>\n",
       "</div>"
      ],
      "text/plain": [
       "    event device channel  code  size  \\\n",
       "id                                     \n",
       "0       0     MW     FP1     0  1017   \n",
       "1       1     MW     FP1     1   889   \n",
       "2       2     MW     FP1     4  1017   \n",
       "3       3     MW     FP1     1  1017   \n",
       "4       4     MW     FP1     8   952   \n",
       "\n",
       "                                                 data  \n",
       "id                                                     \n",
       "0   38,48,51,44,48,56,56,41,20,-3,-9,-1,6,5,6,17,2...  \n",
       "1   83,74,65,65,66,55,43,25,18,20,26,33,41,38,28,3...  \n",
       "2   19,10,-2,-9,-5,3,8,7,8,2,-10,-21,-22,-27,-30,-...  \n",
       "3   17,29,36,26,21,17,17,13,17,21,25,26,20,5,-5,-1...  \n",
       "4   77,74,69,70,76,75,76,75,67,66,76,93,98,82,55,3...  "
      ]
     },
     "execution_count": 3,
     "metadata": {},
     "output_type": "execute_result"
    }
   ],
   "source": [
    "dataset.head()"
   ]
  }
 ],
 "metadata": {
  "kernelspec": {
   "display_name": "Python 3",
   "language": "python",
   "name": "python3"
  },
  "language_info": {
   "codemirror_mode": {
    "name": "ipython",
    "version": 3
   },
   "file_extension": ".py",
   "mimetype": "text/x-python",
   "name": "python",
   "nbconvert_exporter": "python",
   "pygments_lexer": "ipython3",
   "version": "3.8.5"
  }
 },
 "nbformat": 4,
 "nbformat_minor": 4
}
